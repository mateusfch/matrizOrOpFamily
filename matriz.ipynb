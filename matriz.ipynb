{
 "cells": [
  {
   "cell_type": "code",
   "execution_count": 2,
   "metadata": {},
   "outputs": [],
   "source": [
    "import pandas as pd\n",
    "from collections import defaultdict"
   ]
  },
  {
   "cell_type": "code",
   "execution_count": 3,
   "metadata": {},
   "outputs": [],
   "source": [
    "# k_mers - para o database\n",
    "def getKmers(organismos, tamanho):\n",
    "  k_mers = {}\n",
    "\n",
    "  for genero, sequencia in organismos.items():\n",
    "    lista_k_mers = {}\n",
    "    for i in range (0, len(sequencia)-tamanho+1):\n",
    "      lista_k_mers[sequencia[i:i+tamanho]] = lista_k_mers.get(sequencia[i:i+tamanho],0) + 1\n",
    "    k_mers[genero] = lista_k_mers\n",
    "  return k_mers\n",
    "\n",
    "# k_mers - para a sequência a ser classificada\n",
    "def getKmersSeq(sequencia, tamanho):\n",
    "  k_mers = {}\n",
    "  for i in range(0, len(sequencia)-tamanho+1):\n",
    "    k_mers[sequencia[i:i+tamanho]] = k_mers.get(sequencia[i:i+tamanho],0) + 1\n",
    "  return k_mers"
   ]
  },
  {
   "cell_type": "code",
   "execution_count": 4,
   "metadata": {},
   "outputs": [],
   "source": [
    "numOrganismos = 0\n",
    "arqSaida = \"\"\n",
    "arq = open(\"pr2_version_5.0.0_SSU_dada2.fasta\", \"r\")\n",
    "linhas = arq.readlines()"
   ]
  },
  {
   "cell_type": "code",
   "execution_count": 5,
   "metadata": {},
   "outputs": [],
   "source": [
    "organismos = defaultdict(int)\n",
    "count = defaultdict(int)\n",
    "fam = set()\n",
    "for i in range(0, len(linhas), 2):\n",
    "  fam.add(linhas[i].split(\";\")[6])\n",
    "  count[linhas[i].split(\";\")[6]] +=1\n",
    "  organismos[linhas[i].split(\";\")[6] + \" \" + str(count[linhas[i].split(\";\")[6]])] = linhas[i+1]\n"
   ]
  },
  {
   "cell_type": "code",
   "execution_count": 25,
   "metadata": {},
   "outputs": [],
   "source": [
    "# k_db = getKmers(organismos, 8)\n",
    "# k_cl = getKmersSeq(\"CGGAGAGGGAGCCTGAGAAACGGCTACCACATCCAAGGAAGGCAGCAGGCGCGCAAATTACCCACTCCCGGCACGGGGAGGTAGT\", 8)"
   ]
  },
  {
   "cell_type": "code",
   "execution_count": 6,
   "metadata": {},
   "outputs": [],
   "source": [
    "#foi só até eukaryota\n",
    "k_db = getKmers(organismos, 1)\n",
    "#k_cl = getKmersSeq(\"GTGCTGGCACCAGACTTGCCCTCCAATGGATACTCACAAATGGCTTTACAATCTGCTCATTTCAATCACAAAGCAAAAGCTCTAT\", 8)\n",
    "#k_cl = getKmersSeq(\"AGATTAAGCCATGCATGTCTAAGTACATACCGTATTAAGGTGAAACCGCGAATGGCTCATTAAATCAGTTATGATTCATTGGATGTTGACTAATTACATGGATAACTGTGGTAATTCTAGAGCTAATACATGCACAAAAGCTTCATCGCAAGATGAAGTGCATTTATTAGACCAAGACCAAAGGTGATTTATCACCTTTTTGTGGTGACTCTGAATAACTGCAGCTGATCGCATGGCCTTGTGCCGGCGACATATCCTTCGAGTGTCTGCCTTATCAACTTTCGATGGTAGGTTATATGCCTACCATGGTTGTAACGGGTAACGGGGAATCAGGGTTCGATTCCGGAGAGGGAGCCTGAGAGACGGCTACCACATCCAAGGAAGGCAGCAGGCGCGCAAATTACCCACTCTCAGAACGAGGAGGTAGTGACGAAAAATAACAATACGGGATTCGCTTTTGCGTTCTCGTAATTGGAATGAGTACAGTTTAAATCCTTTAACGAGGATCAATTGGAGGGCAAGTCTGGTGCCAGCAGCCGCGGTAATTCCAGCTCCAATAGCGTATATTAAAGTTGTTGTGGTTAAAAAGCTCGTAGTTGGATCTCAGCTCATACGTGTTGGTCCACTTTGTTAGTGGTTACTAATATGTTGAGCAGTTTACCGTATTGTCTTGTAGTGTTCTTAATTGAATGTTACAAGCGATCGGTACGTTTACTTTGAAAAAATTAGAGTGCTCAAAGCAGGCATAATAGCCTGAATAATGTTGCATGGAATAATAGAATAGGACCTTGGTTCTGTTCTGTTGGTCTTCGGAATTAAGGTAATGATTAAGAGGGACGGACGGGGACATTAGTACTGCGGCGATAGAGGTGAAATTCTTGGACCGCCGCATGACTAACTAAAGCGAAAGCATTTGTCAAGAACGTTTTCATTAATCAAGAACGAAAGTAATGGGTTCGAAGGCGATCAGATACCGCCCTAGTTCTAACCATAAACGATGCCAACCAGCAATCAGCCAGAGTTTTTGTATGACTCGGCTGGCGGCTTCCGGGAAACCAAAGTTTTTCGGTTCCAGGGGAAGTATGGTTGCAAAGCTGAAACTTAAAGGAATTGACGGAAGGGCACCACCAGGAGTGGAGCCTGCGGCTTAATTTGACTCAACACGGGAAAACTCACCCGGTCCGGACACTGGAAGGATTGACAGATTAAGAGCTCTTTCTTGATTCAGTGGGTGGTGGTGCATGGCCGTTCTTAGTTGGTGGAGCGATTTGTCTGGTTAATTCCGATAACGAACGAGACTCTAGCCTACTAAATAGCACTCAGCATCATAGCTGTTGAAGTGCTTCTTAGAGGGACAAACGGCGTTTCAGCCGTATGAAAAAGAGCAATAACAGGTCTGTGATGCCCTTAGATGTCCGGGGCCGCACGCGCGCTACACTGAAAAAATCAGCGTGCATTTGTTACCTACTCCGAAAGGAGCGGGAAACCGAGTGAAACTTTTTCGTGATTGGGATTGGGGATTGTAATTATTGTCCATGAACGAGGAATTCCCAGTAAGCACAAGTCATCAGCTTGTGTTGATTACGTCCCTGCCCTTTGTACACACCGCCCGTCGCTACTACCGATTGGATGTTTTAGTGAGGTCTTCGGACTTGCTGATGTAGTTTGCTCTCGTAGCAGCAATGTTGGTGAGAAAGATGACCAAACTGTAACATCTAGAGGAAGTAAAAGTCGTAACAAGGTTTCCGT\", 8)"
   ]
  },
  {
   "cell_type": "code",
   "execution_count": 7,
   "metadata": {},
   "outputs": [],
   "source": [
    "k_cl = getKmersSeq(\"AGATTAAGCCATGCATGTCTAAGTACATACCGTATTAAGGTGAAACCGCGAATGGCTCATTAAATCAGTTATGATTCATTGGATGTTGACTAATTACATGGATAACTGTGGTAATTCTAGAGCTAATACATGCACAAAAGCTTCATCGCAAGATGAAGTGCATTTATTAGACCAAGACCAAAGGTGATTTATCACCTTTTTGTGGTGACTCTGAATAACTGCAGCTGATCGCATGGCCTTGTGCCGGCGACATATCCTTCGAGTGTCTGCCTTATCAACTTTCGATGGTAGGTTATATGCCTACCATGGTTGTAACGGGTAACGGGGAATCAGGGTTCGATTCCGGAGAGGGAGCCTGAGAGACGGCTACCACATCCAAGGAAGGCAGCAGGCGCGCAAATTACCCACTCTCAGAACGAGGAGGTAGTGACGAAAAATAACAATACGGGATTCGCTTTTGCGTTCTCGTAATTGGAATGAGTACAGTTTAAATCCTTTAACGAGGATCAATTGGAGGGCAAGTCTGGTGCCAGCAGCCGCGGTAATTCCAGCTCCAATAGCGTATATTAAAGTTGTTGTGGTTAAAAAGCTCGTAGTTGGATCTCAGCTCATACGTGTTGGTCCACTTTGTTAGTGGTTACTAATATGTTGAGCAGTTTACCGTATTGTCTTGTAGTGTTCTTAATTGAATGTTACAAGCGATCGGTACGTTTACTTTGAAAAAATTAGAGTGCTCAAAGCAGGCATAATAGCCTGAATAATGTTGCATGGAATAATAGAATAGGACCTTGGTTCTGTTCTGTTGGTCTTCGGAATTAAGGTAATGATTAAGAGGGACGGACGGGGACATTAGTACTGCGGCGATAGAGGTGAAATTCTTGGACCGCCGCATGACTAACTAAAGCGAAAGCATTTGTCAAGAACGTTTTCATTAATCAAGAACGAAAGTAATGGGTTCGAAGGCGATCAGATACCGCCCTAGTTCTAACCATAAACGATGCCAACCAGCAATCAGCCAGAGTTTTTGTATGACTCGGCTGGCGGCTTCCGGGAAACCAAAGTTTTTCGGTTCCAGGGGAAGTATGGTTGCAAAGCTGAAACTTAAAGGAATTGACGGAAGGGCACCACCAGGAGTGGAGCCTGCGGCTTAATTTGACTCAACACGGGAAAACTCACCCGGTCCGGACACTGGAAGGATTGACAGATTAAGAGCTCTTTCTTGATTCAGTGGGTGGTGGTGCATGGCCGTTCTTAGTTGGTGGAGCGATTTGTCTGGTTAATTCCGATAACGAACGAGACTCTAGCCTACTAAATAGCACTCAGCATCATAGCTGTTGAAGTGCTTCTTAGAGGGACAAACGGCGTTTCAGCCGTATGAAAAAGAGCAATAACAGGTCTGTGATGCCCTTAGATGTCCGGGGCCGCACGCGCGCTACACTGAAAAAATCAGCGTGCATTTGTTACCTACTCCGAAAGGAGCGGGAAACCGAGTGAAACTTTTTCGTGATTGGGATTGGGGATTGTAATTATTGTCCATGAACGAGGAATTCCCAGTAAGCACAAGTCATCAGCTTGTGTTGATTACGTCCCTGCCCTTTGTACACACCGCCCGTCGCTACTACCGATTGGATGTTTTAGTGAGGTCTTCGGACTTGCTGATGTAGTTTGCTCTCGTAGCAGCAATGTTGGTGAGAAAGATGACCAAACTGTAACATCTAGAGGAAGTAAAAGTCGTAACAAGGTTTCCGT\", 2)"
   ]
  },
  {
   "cell_type": "code",
   "execution_count": null,
   "metadata": {},
   "outputs": [],
   "source": [
    "# #ultimo\n",
    "# k_db = getKmers(organismos, 8)\n",
    "# k_cl = getKmersSeq(\"CTGCTGGCACCAGACTTGCCCTCCACTTGGTCCTCGTGAAAGGGATTTAAAATGTACTCATTCCAATTACAAGACTCAAAGAGCC\", 8)"
   ]
  },
  {
   "cell_type": "code",
   "execution_count": 5,
   "metadata": {},
   "outputs": [],
   "source": [
    "#insecta ixodes - fev 27 2024\n",
    "# k_db = getKmers(organismos, 8)\n",
    "# k_cl = getKmersSeq(\"CGGAGAGGGAGCCTGAGAAACGGCTACCACATCCAAGGAAGGCAGCAGGCGCGCAAATTACCCACTCCCGGCACGGGGAGGTAGT\", 8)"
   ]
  },
  {
   "cell_type": "code",
   "execution_count": 8,
   "metadata": {},
   "outputs": [],
   "source": [
    "aparece = defaultdict(defaultdict)\n",
    "for k_dbKEY, k_dbVAL in k_db.items():\n",
    "  intersec = k_dbVAL.keys() & k_cl.keys()\n",
    "  aparece_KMER = defaultdict(int)\n",
    "  for k_clKEY, k_clVALUE in k_cl.items():\n",
    "    if k_clKEY in intersec:\n",
    "      #aparece_KMER[k_clKEY] = k_clVALUE / k_dbVAL[k_clKEY]\n",
    "      aparece_KMER[k_clKEY] = 1\n",
    "    #if aparece[k_dbKEY.replace(k_dbKEY.split()[-1], \"\").strip()][k_clKEY] \n",
    "    else:\n",
    "      aparece_KMER[k_clKEY] = 0\n",
    "  aparece[k_dbKEY] = aparece_KMER\n",
    "  "
   ]
  },
  {
   "cell_type": "code",
   "execution_count": 9,
   "metadata": {},
   "outputs": [],
   "source": [
    "aparece2 = {}\n",
    "for fam_nome in fam:\n",
    "    aparece2[fam_nome] = {k_mer: 0 for k_mer in k_cl.keys()}"
   ]
  },
  {
   "cell_type": "code",
   "execution_count": 10,
   "metadata": {},
   "outputs": [],
   "source": [
    "#key: (key:value)\n",
    "#Lorem: AG:2, TG:1\n",
    "    \n",
    "#fam\n",
    "for f in fam:\n",
    "    for a_key, a_val in aparece.items():\n",
    "        fam_nome = a_key.replace(a_key.split()[-1], \"\").strip()\n",
    "        if fam_nome == f:\n",
    "            for k_mer, freq in a_val.items():\n",
    "                if freq == 1:\n",
    "                    aparece2[f][k_mer] = 1\n",
    "                "
   ]
  },
  {
   "cell_type": "code",
   "execution_count": 12,
   "metadata": {},
   "outputs": [],
   "source": [
    "df = (pd.DataFrame(aparece2)).transpose().sort_index(axis=1)\n",
    "df.to_excel('matrizOrOpFamily.xlsx', index=True)"
   ]
  }
 ],
 "metadata": {
  "kernelspec": {
   "display_name": "base",
   "language": "python",
   "name": "python3"
  },
  "language_info": {
   "codemirror_mode": {
    "name": "ipython",
    "version": 3
   },
   "file_extension": ".py",
   "mimetype": "text/x-python",
   "name": "python",
   "nbconvert_exporter": "python",
   "pygments_lexer": "ipython3",
   "version": "3.10.13"
  }
 },
 "nbformat": 4,
 "nbformat_minor": 2
}
